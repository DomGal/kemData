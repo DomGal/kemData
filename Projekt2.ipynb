{
 "cells": [
  {
   "cell_type": "code",
   "execution_count": null,
   "metadata": {},
   "outputs": [],
   "source": [
    "import pandas as pd\n",
    "import numpy as np\n",
    "\n",
    "import matplotlib.pyplot as plt\n",
    "from seaborn import set_style\n",
    "set_style(\"whitegrid\")"
   ]
  },
  {
   "cell_type": "code",
   "execution_count": null,
   "metadata": {
    "scrolled": true
   },
   "outputs": [],
   "source": [
    "df = pd.read_json(\"./clean_data.dat\")\n",
    "df.head()"
   ]
  },
  {
   "cell_type": "code",
   "execution_count": null,
   "metadata": {},
   "outputs": [],
   "source": [
    "df = df.loc[df.loc[:, \"Kategorija pokazatelja\"].notna()]\n",
    "df.loc[:, \"SR.VR.\"] = df.loc[:, \"SR.VR.\"].apply(lambda x: \"\".join(x.split(\",\")) if len(x.split()) <=2 else np.nan).apply(lambda x: np.nan if x == \"\" else x).apply(float)\n",
    "df = df.loc[df.loc[:, \"SR.VR.\"].notna()]"
   ]
  },
  {
   "cell_type": "code",
   "execution_count": null,
   "metadata": {
    "scrolled": true
   },
   "outputs": [],
   "source": [
    "df.info()"
   ]
  },
  {
   "cell_type": "code",
   "execution_count": null,
   "metadata": {},
   "outputs": [],
   "source": [
    "df.loc[:, \"SR.VR.\"]"
   ]
  },
  {
   "cell_type": "code",
   "execution_count": null,
   "metadata": {},
   "outputs": [],
   "source": [
    "vodniTipovi = [item for item in list(df.loc[:, \"Vodi tip\"].unique()) if item != \"\"]"
   ]
  },
  {
   "cell_type": "code",
   "execution_count": null,
   "metadata": {},
   "outputs": [],
   "source": [
    "kategorijePokazatelja = [item for item in list(df.loc[:, \"Kategorija pokazatelja\"].unique()) if item is not np.nan]"
   ]
  },
  {
   "cell_type": "code",
   "execution_count": null,
   "metadata": {},
   "outputs": [],
   "source": [
    "kategorijePokazatelja"
   ]
  },
  {
   "cell_type": "code",
   "execution_count": null,
   "metadata": {},
   "outputs": [],
   "source": [
    "pokazateljiPoKategorijama = {kategorija : [item for item in list(df.loc[df.loc[:, \"Kategorija pokazatelja\"] == kategorija, \"Pokazatelj\"].unique()) if item != \"\"] for kategorija in kategorijePokazatelja}"
   ]
  },
  {
   "cell_type": "code",
   "execution_count": null,
   "metadata": {},
   "outputs": [],
   "source": [
    "pokazateljiPoKategorijama"
   ]
  },
  {
   "cell_type": "markdown",
   "metadata": {},
   "source": [
    "Treba pivotat tablicu.<br>\n",
    "Svaki pokazatalje će biti stupac, redak će predstavljati srednje vrijednosti identificirane (indeksirane) po lokaciji."
   ]
  },
  {
   "cell_type": "code",
   "execution_count": null,
   "metadata": {},
   "outputs": [],
   "source": [
    "df.pivot(index = [\"Naziv postaje\", \"Razdoblje\"], columns = \"Pokazatelj\", values = \"SR.VR.\")"
   ]
  },
  {
   "cell_type": "code",
   "execution_count": null,
   "metadata": {},
   "outputs": [],
   "source": [
    "df.pivot_table(values = \"SR.VR.\", columns=\"Pokazatelj\", index = \"Naziv postaje\")"
   ]
  },
  {
   "cell_type": "code",
   "execution_count": null,
   "metadata": {},
   "outputs": [],
   "source": []
  }
 ],
 "metadata": {
  "kernelspec": {
   "display_name": "Python 3",
   "language": "python",
   "name": "python3"
  },
  "language_info": {
   "codemirror_mode": {
    "name": "ipython",
    "version": 3
   },
   "file_extension": ".py",
   "mimetype": "text/x-python",
   "name": "python",
   "nbconvert_exporter": "python",
   "pygments_lexer": "ipython3",
   "version": "3.7.1"
  }
 },
 "nbformat": 4,
 "nbformat_minor": 2
}
