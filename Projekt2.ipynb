{
 "cells": [
  {
   "cell_type": "code",
   "execution_count": null,
   "metadata": {},
   "outputs": [],
   "source": [
    "import time\n",
    "from tqdm import tqdm_notebook as tqdm\n",
    "\n",
    "import pandas as pd\n",
    "import numpy as np\n",
    "\n",
    "import matplotlib.pyplot as plt\n",
    "from matplotlib import rcParams\n",
    "import seaborn as sns\n",
    "sns.set_style(\"whitegrid\")\n",
    "rcParams.update({'figure.autolayout': True})"
   ]
  },
  {
   "cell_type": "code",
   "execution_count": null,
   "metadata": {
    "scrolled": true
   },
   "outputs": [],
   "source": [
    "df = pd.read_json(\"./clean_data.dat\")\n",
    "df.head()"
   ]
  },
  {
   "cell_type": "code",
   "execution_count": null,
   "metadata": {},
   "outputs": [],
   "source": [
    "df = df.loc[df.loc[:, \"Kategorija pokazatelja\"].notna()]\n",
    "df.loc[:, \"SR.VR.\"] = df.loc[:, \"SR.VR.\"].apply(lambda x: \"\".join(x.split(\",\")) if len(x.split()) <=2 else np.nan).apply(lambda x: np.nan if x == \"\" else x).apply(float)\n",
    "df = df.loc[df.loc[:, \"SR.VR.\"].notna()]\n",
    "\n",
    "df.loc[:, \"br.an.\"] = df.loc[:, \"br.an.\"].astype(float)"
   ]
  },
  {
   "cell_type": "code",
   "execution_count": null,
   "metadata": {},
   "outputs": [],
   "source": [
    "df.loc[:, \"ukupno\"] = df.loc[:, \"br.an.\"] * df.loc[:, \"SR.VR.\"]"
   ]
  },
  {
   "cell_type": "code",
   "execution_count": null,
   "metadata": {
    "scrolled": true
   },
   "outputs": [],
   "source": [
    "df.info()"
   ]
  },
  {
   "cell_type": "code",
   "execution_count": null,
   "metadata": {},
   "outputs": [],
   "source": [
    "vodniTipovi = [item for item in list(df.loc[:, \"Vodi tip\"].unique()) if item != \"\"]"
   ]
  },
  {
   "cell_type": "code",
   "execution_count": null,
   "metadata": {},
   "outputs": [],
   "source": [
    "kategorijePokazatelja = [item for item in list(df.loc[:, \"Kategorija pokazatelja\"].unique()) if item is not np.nan]"
   ]
  },
  {
   "cell_type": "code",
   "execution_count": null,
   "metadata": {},
   "outputs": [],
   "source": [
    "pokazateljiPoKategorijama = {kategorija : [item for item in list(df.loc[df.loc[:, \"Kategorija pokazatelja\"] == kategorija, \"Pokazatelj\"].unique()) if item != \"\"] for kategorija in kategorijePokazatelja}"
   ]
  },
  {
   "cell_type": "code",
   "execution_count": null,
   "metadata": {},
   "outputs": [],
   "source": [
    "frame = df.copy()"
   ]
  },
  {
   "cell_type": "markdown",
   "metadata": {},
   "source": [
    "Treba pivotat tablicu.<br>\n",
    "Svaki pokazatalje će biti stupac, redak će predstavljati srednje vrijednosti identificirane (indeksirane) po lokaciji."
   ]
  },
  {
   "cell_type": "code",
   "execution_count": null,
   "metadata": {},
   "outputs": [],
   "source": [
    "def singlePerm(twoValFrame, nPerm):\n",
    "    permArray = np.zeros(nPerm)\n",
    "    for i in range(nPerm):\n",
    "        col1 = list(twoValFrame.columns)[1]\n",
    "        twoValFrame.loc[:, col1] = np.random.permutation(twoValFrame.loc[:, col1].values)\n",
    "        permArray[i] = twoValFrame.corr().values[0, 1]\n",
    "    return permArray.copy()\n",
    "    \n",
    "\n",
    "def corrPerm(dFrame, nPerm = 5_000):\n",
    "    corrFrame = pd.DataFrame()\n",
    "    cols = list(dFrame.columns)\n",
    "    for i in range(len(cols)):\n",
    "        for j in range(i + 1, len(cols)):\n",
    "            corrFrame.loc[:, \"corr({} ,{})\".format(cols[i], cols[j])] = singlePerm(\n",
    "                dFrame.loc[:, [cols[i], cols[j]]], nPerm)\n",
    "    return corrFrame"
   ]
  },
  {
   "cell_type": "code",
   "execution_count": null,
   "metadata": {
    "scrolled": true
   },
   "outputs": [],
   "source": [
    "alpha = 0.05\n",
    "for tip in tqdm([None] + vodniTipovi):\n",
    "    if tip is not None:\n",
    "        tmpFrame = frame.loc[frame.loc[:, \"Vodi tip\"] == tip]\n",
    "    else:\n",
    "        tmpFrame = frame\n",
    "        tip = \"Svi\"\n",
    "    \n",
    "    ukupnoFrame = tmpFrame.pivot_table(values = \"ukupno\",\n",
    "                                    columns=\"Pokazatelj\", index = \"Naziv postaje\", aggfunc=np.sum)\n",
    "    countFrame = tmpFrame.pivot_table(values = \"br.an.\",\n",
    "                                   columns=\"Pokazatelj\", index = \"Naziv postaje\", aggfunc=np.sum)\n",
    "    meanFrame = ukupnoFrame / countFrame\n",
    "    \n",
    "    fig, axes = plt.subplots(2, 1, figsize = (30, 32))\n",
    "    fig2, axes2 = plt.subplots(2, 1, figsize = (30, 32))\n",
    "    fig3, ax3 = plt.subplots(figsize = (30, 16))\n",
    "    dropFig, dropAx = plt.subplots(figsize = (30, 16))\n",
    "    \n",
    "    tmpCorr =  meanFrame.corr().applymap(lambda x: \"{:.2f}\".format(x)).astype(float)\n",
    "    pVals = tmpCorr.copy()\n",
    "    signif = tmpCorr.copy()\n",
    "    features = list(tmpCorr.columns)\n",
    "    for i in tqdm(range(len(features)), leave = False):\n",
    "        for j in tqdm(range(i + 1, len(features)), leave = False):\n",
    "            corrVal = tmpCorr.loc[features[i], features[j]]\n",
    "            permSamples = corrPerm(meanFrame.loc[:, [features[i], features[j]]])\n",
    "            if np.isnan(corrVal):\n",
    "                pVal = 1.0\n",
    "            elif corrVal >= 0:\n",
    "                pVal = (permSamples > corrVal).mean()[0]\n",
    "            else:\n",
    "                pVal = (permSamples < corrVal).mean()[0]\n",
    "            pVals.loc[features[i], features[j]] = pVal\n",
    "            pVals.loc[features[j], features[i]] = pVal\n",
    "            signif.loc[features[i], features[j]] = float(pVal < alpha)\n",
    "            signif.loc[features[j], features[i]] = float(pVal < alpha)\n",
    "            \n",
    "    sns.heatmap(tmpCorr, cmap = \"inferno\", ax = axes[0], annot = True)\n",
    "    sns.heatmap(pVals, cmap = \"inferno\", ax = axes[1], annot = True)\n",
    "    \n",
    "    sns.heatmap(tmpCorr, cmap = \"inferno\", ax = axes2[0], annot = True)\n",
    "    sns.heatmap(signif, cmap = \"inferno\", ax = axes2[1], annot = True)\n",
    "    \n",
    "    tmpCorr.fillna(0, inplace = True)\n",
    "    signif.fillna(0, inplace = True)\n",
    "    \n",
    "    sns.heatmap(tmpCorr, cmap = \"inferno\", ax = dropAx, annot = True)\n",
    "    sns.heatmap(signif, cmap = \"inferno\", ax = ax3, annot = True)\n",
    "    \n",
    "    \n",
    "    \n",
    "    \n",
    "    def corrTrans(value):\n",
    "        if value == \"250.0\":\n",
    "            return \" \"\n",
    "        else:\n",
    "            return value\n",
    "    \n",
    "    for t1, t2 in zip(ax3.texts, dropAx.texts):\n",
    "        t1.set_text(corrTrans(t2.get_text()))\n",
    "    \n",
    "    axes[0].set_title(\"Vodni tip: {}\".format(tip))\n",
    "    axes[1].set_title(\"p-vrijednost\")\n",
    "    fig.savefig(\"./pics/corrPermTest/corrPlot_{}.pdf\".format(tip))\n",
    "    plt.show(fig)\n",
    "    \n",
    "    axes2[0].set_title(\"Vodni tip: {}\".format(tip))\n",
    "    axes2[1].set_title(\"značajnost\")\n",
    "    fig2.savefig(\"./pics/corrPermTest/corrPlotsignif_{}.pdf\".format(tip))\n",
    "    plt.show(fig2)\n",
    "    \n",
    "    ax3.set_title(\"Vodni tip: {}\".format(tip))\n",
    "    fig3.savefig(\"./pics/corrMerge/corrPlot_{}.pdf\".format(tip))\n",
    "    plt.show(fig3)\n",
    "    plt.show(dropFig)"
   ]
  },
  {
   "cell_type": "code",
   "execution_count": null,
   "metadata": {},
   "outputs": [],
   "source": []
  }
 ],
 "metadata": {
  "kernelspec": {
   "display_name": "Python 3",
   "language": "python",
   "name": "python3"
  },
  "language_info": {
   "codemirror_mode": {
    "name": "ipython",
    "version": 3
   },
   "file_extension": ".py",
   "mimetype": "text/x-python",
   "name": "python",
   "nbconvert_exporter": "python",
   "pygments_lexer": "ipython3",
   "version": "3.6.8"
  }
 },
 "nbformat": 4,
 "nbformat_minor": 2
}
