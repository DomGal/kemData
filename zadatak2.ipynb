{
 "cells": [
  {
   "cell_type": "code",
   "execution_count": null,
   "metadata": {},
   "outputs": [],
   "source": [
    "import pandas as pd\n",
    "import numpy as np\n",
    "import matplotlib.pyplot as plt\n",
    "import seaborn as sns\n",
    "\n",
    "import xlsxwriter"
   ]
  },
  {
   "cell_type": "code",
   "execution_count": null,
   "metadata": {},
   "outputs": [],
   "source": [
    "df = pd.read_excel(\"../data/zadatak 2.xlsx\", decimal = \",\")\n",
    "df.loc[:, \"Datum\"] = pd.to_datetime(df.loc[:, \"Datum\"])"
   ]
  },
  {
   "cell_type": "code",
   "execution_count": null,
   "metadata": {},
   "outputs": [],
   "source": [
    "fizKemPok = list(df.columns)[3:9]\n",
    "rezKisika = list(df.columns)[9:13]\n",
    "hranjTvar = list(df.columns)[13:22]\n",
    "metali = list(df.columns)[22:24]\n",
    "orgSpoj = list(df.columns)[24:26]\n",
    "ioni = list(df.columns)[26:]\n",
    "\n",
    "noviIndex = ([\"Pokazatelji\"]\n",
    "             + [\"Fizikalno kemijski pokazatelji\"]\n",
    "             + fizKemPok\n",
    "             + [\"\"]\n",
    "             + [\"Režim kisika\"]\n",
    "             + rezKisika\n",
    "             + [\"\"]\n",
    "             + [\"Hranjive tvari\"]\n",
    "             + hranjTvar\n",
    "             + [\"\"]\n",
    "             + [\"Metali\"]\n",
    "             + metali\n",
    "             + [\"\"]\n",
    "             + [\"Organski spojevi\"]\n",
    "             + orgSpoj\n",
    "             + [\"\"]\n",
    "             + [\"Ioni\"]\n",
    "             + ioni)"
   ]
  },
  {
   "cell_type": "code",
   "execution_count": null,
   "metadata": {},
   "outputs": [],
   "source": [
    "godine = list(df.loc[:, \"Datum\"].apply(lambda x: x.year).unique())"
   ]
  },
  {
   "cell_type": "code",
   "execution_count": null,
   "metadata": {},
   "outputs": [],
   "source": [
    "for i in df.loc[:, \"šifra\"].unique():\n",
    "    assert(len(df.loc[df.loc[:, \"šifra\"] == i, \"POSTAJA\"].unique()) == 1)"
   ]
  },
  {
   "cell_type": "code",
   "execution_count": null,
   "metadata": {},
   "outputs": [],
   "source": [
    "postaje = {i: df.loc[df.loc[:, \"šifra\"] == i, \"POSTAJA\"].unique(\n",
    "    )[0] for i in df.loc[:, \"šifra\"].unique()}"
   ]
  },
  {
   "cell_type": "code",
   "execution_count": null,
   "metadata": {},
   "outputs": [],
   "source": [
    "testGodina = \"2016\"\n",
    "testPostaja = \"DA2\"\n",
    "testFrame = df.loc[(df.loc[:, \"šifra\"] == testPostaja)\n",
    "                   & (df.loc[:, \"Datum\"].apply(lambda x: x.year).astype(\"str\") == testGodina)]"
   ]
  },
  {
   "cell_type": "code",
   "execution_count": null,
   "metadata": {},
   "outputs": [],
   "source": [
    "def crunch(frame):\n",
    "    outFrame = frame.count().to_frame()\n",
    "    outFrame.columns = [\"br.an.\"]\n",
    "    outFrame.loc[:, \"MAX\"] = frame.max()\n",
    "    outFrame.loc[:, \"MIN\"] = frame.min()\n",
    "    outFrame.loc[:, \"SR.VR.\"] = frame.mean()\n",
    "    outFrame.loc[:, \"ST.DEV.\"] = frame.std()\n",
    "    outFrame.loc[:, \"10%\"] = frame.quantile(.1)\n",
    "    outFrame.loc[:, \"50%\"] = frame.quantile(.5)\n",
    "    outFrame.loc[:, \"90%\"] = frame.quantile(.9)\n",
    "    \n",
    "    return outFrame\n",
    "\n",
    "def sliceAndDice(frame, noviIndex = noviIndex):\n",
    "    outFrame = pd.DataFrame(index = pd.Index(noviIndex),\n",
    "                             columns = frame.columns)\n",
    "    outFrame.loc[\"Pokazatelji\"] = frame.columns\n",
    "    for i in frame.index:\n",
    "        outFrame.loc[i] = frame.loc[i]\n",
    "    \n",
    "    return outFrame.reset_index()"
   ]
  },
  {
   "cell_type": "code",
   "execution_count": null,
   "metadata": {},
   "outputs": [],
   "source": [
    "crunchFrame = crunch(testFrame.drop([\"POSTAJA\", \"Datum\", \"šifra\"], axis = 1))\n",
    "sliceFrame = sliceAndDice(crunchFrame)"
   ]
  },
  {
   "cell_type": "code",
   "execution_count": null,
   "metadata": {},
   "outputs": [],
   "source": [
    "writer = pd.ExcelWriter(\"../data/rezultat2.xlsx\",\n",
    "                        engine = \"xlsxwriter\")\n",
    "\n",
    "counter = 0\n",
    "\n",
    "for s, p in postaje.items():\n",
    "    for g in [\"2015\", \"2016\"]:\n",
    "        \n",
    "        shift = counter * 53\n",
    "        \n",
    "        inFrame = df.loc[(df.loc[:, \"šifra\"] == s)\n",
    "                   & (df.loc[:, \"Datum\"].apply(lambda x: x.year).astype(\"str\") == str(g))]\n",
    "        \n",
    "        crunchFrame = crunch(inFrame.drop([\"POSTAJA\", \"Datum\", \"šifra\"], axis = 1))\n",
    "        sliceFrame = sliceAndDice(crunchFrame)\n",
    "        \n",
    "        sliceFrame.to_excel(writer, sheet_name=\"rezultati\", index=False,\n",
    "                           header = False, startrow = 7 + shift)\n",
    "        \n",
    "        if counter == 0:\n",
    "            workbook = writer.book\n",
    "            workbook.strings_to_numbers = True\n",
    "        \n",
    "            normalFormat = workbook.add_format({\"font_name\":\"Ariel\", \"font_size\":10})\n",
    "            subTitleFormat = workbook.add_format({\"font_name\":\"Ariel\", \"font_size\":10, \"bold\": True})\n",
    "            headerFormat = workbook.add_format({\"font_name\":\"Ariel\", \"font_size\":14, \"bold\": True})\n",
    "\n",
    "            worksheet = writer.sheets[\"rezultati\"]\n",
    "            \n",
    "            worksheet.set_column(1, 8, 10, normalFormat)\n",
    "            worksheet.set_column(0, 0, 40, normalFormat)\n",
    "\n",
    "        worksheet.write(0 + shift, 0, \"STATISTIKA\")\n",
    "        worksheet.write(1 + shift, 5, \"Naziv postaje: {}\".format(p))\n",
    "        worksheet.write(2 + shift, 5, \"Šifra postaje: {}\".format(s) )\n",
    "        worksheet.write(3 + shift, 5, \"Razdoblje: 01.01.{}-30.12.{}\".format(g, g))\n",
    "        worksheet.write(4 + shift, 5, \"Medij: Površinska voda\")\n",
    "        worksheet.write(5 + shift, 5, \"Mikrolokacija:\")\n",
    "        worksheet.write(6 + shift, 0, \"Datum ispisa: 18.10.2018\")\n",
    "\n",
    "\n",
    "        worksheet.set_row(0 + shift, None, headerFormat)\n",
    "        worksheet.set_row(7 + shift, None, subTitleFormat)\n",
    "        worksheet.set_row(8 + shift, None, subTitleFormat)\n",
    "        worksheet.set_row(16 + shift, None, subTitleFormat)\n",
    "        worksheet.set_row(22 + shift, None, subTitleFormat)\n",
    "        worksheet.set_row(33 + shift, None, subTitleFormat)\n",
    "        worksheet.set_row(37 + shift, None, subTitleFormat)\n",
    "        worksheet.set_row(41 + shift, None, subTitleFormat)\n",
    "        \n",
    "        counter += 1\n",
    "writer.save()\n",
    "print(\"done, counter: {}\".format(counter))"
   ]
  },
  {
   "cell_type": "code",
   "execution_count": null,
   "metadata": {},
   "outputs": [],
   "source": []
  }
 ],
 "metadata": {
  "kernelspec": {
   "display_name": "Python 3",
   "language": "python",
   "name": "python3"
  },
  "language_info": {
   "codemirror_mode": {
    "name": "ipython",
    "version": 3
   },
   "file_extension": ".py",
   "mimetype": "text/x-python",
   "name": "python",
   "nbconvert_exporter": "python",
   "pygments_lexer": "ipython3",
   "version": "3.6.4"
  }
 },
 "nbformat": 4,
 "nbformat_minor": 2
}
