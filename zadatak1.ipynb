{
 "cells": [
  {
   "cell_type": "code",
   "execution_count": null,
   "metadata": {},
   "outputs": [],
   "source": [
    "import time\n",
    "from tqdm import tqdm_notebook as tqdm\n",
    "\n",
    "import pandas as pd\n",
    "import numpy as np\n",
    "import matplotlib.pyplot as plt\n",
    "from matplotlib import rcParams\n",
    "import seaborn as sns\n",
    "\n",
    "sns.set_style(\"whitegrid\")\n",
    "rcParams.update({'figure.autolayout': True})"
   ]
  },
  {
   "cell_type": "code",
   "execution_count": null,
   "metadata": {},
   "outputs": [],
   "source": [
    "idx = pd.IndexSlice"
   ]
  },
  {
   "cell_type": "code",
   "execution_count": null,
   "metadata": {},
   "outputs": [],
   "source": [
    "df = pd.read_excel(\"../data/kemija loša.xlsx\", decimal = \",\", thousands = \".\")\n",
    "df.head()"
   ]
  },
  {
   "cell_type": "code",
   "execution_count": null,
   "metadata": {},
   "outputs": [],
   "source": [
    "df.loc[:, \"Vodni tip\"] = df.loc[:, \"Vodni tip\"].astype(str)\n",
    "bioloskiParametri = list(df.columns[-3:])\n",
    "kemijskiParametri = list(df.columns[1:-3])"
   ]
  },
  {
   "cell_type": "markdown",
   "metadata": {},
   "source": [
    "## Opisne statistike"
   ]
  },
  {
   "cell_type": "markdown",
   "metadata": {},
   "source": [
    "Izbacujemo mulitIndex i radimo samo sa srednjom vrijednosti"
   ]
  },
  {
   "cell_type": "code",
   "execution_count": null,
   "metadata": {},
   "outputs": [],
   "source": [
    "frame = df.loc[idx[:, \"SR.VR.\"], :].reset_index().drop([\"level_0\", \"level_1\"], axis = 1)\n",
    "frame.head()"
   ]
  },
  {
   "cell_type": "code",
   "execution_count": null,
   "metadata": {},
   "outputs": [],
   "source": [
    "frame.info()"
   ]
  },
  {
   "cell_type": "markdown",
   "metadata": {},
   "source": [
    "Postoji problem s električnom vodljivosti - castana je u object.<br>\n",
    "Problem je u reprezentaciji broja npr. 1.290,75 - rješeno dodavanjem thousands = \".\" u read_excel"
   ]
  },
  {
   "cell_type": "code",
   "execution_count": null,
   "metadata": {},
   "outputs": [],
   "source": [
    "frame.loc[:, kemijskiParametri].head()"
   ]
  },
  {
   "cell_type": "code",
   "execution_count": null,
   "metadata": {},
   "outputs": [],
   "source": [
    "frame.loc[:, bioloskiParametri].head()"
   ]
  },
  {
   "cell_type": "code",
   "execution_count": null,
   "metadata": {},
   "outputs": [],
   "source": [
    "vodniTipovi = list(frame.loc[:, \"Vodni tip\"].unique())\n",
    "vodniTipovi, len(vodniTipovi)"
   ]
  },
  {
   "cell_type": "code",
   "execution_count": null,
   "metadata": {},
   "outputs": [],
   "source": [
    "def toTableIndex(index, nRow = 3, nCol = 4):\n",
    "    row = index // nCol\n",
    "    if row == 0:\n",
    "        col = index\n",
    "    else:\n",
    "        col = (index % nCol) \n",
    "    return (row, col)"
   ]
  },
  {
   "cell_type": "code",
   "execution_count": null,
   "metadata": {
    "scrolled": true
   },
   "outputs": [],
   "source": [
    "bigFig, axes = plt.subplots(3, 4, figsize = (50, 35))\n",
    "\n",
    "for num, tip in enumerate(vodniTipovi):\n",
    "    \n",
    "    tmpFrame = frame.loc[frame.loc[:, \"Vodni tip\"] == tip]\n",
    "    ax = axes[toTableIndex(num)[0], toTableIndex(num)[1]]\n",
    "    \n",
    "    sns.heatmap(tmpFrame.corr().applymap(lambda x: \"{:.2f}\".format(x)).astype(float), cmap = \"inferno\", ax = ax, annot = True)\n",
    "    ax.set_title(\"Vodni tip: {}\".format(tip))\n",
    "    print(\"Checkpoint: {}\".format(num))\n",
    "\n",
    "bigFig.savefig(\"../pics/corr/corrPlot_AllInOne.pdf\")\n",
    "plt.show(bigFig)"
   ]
  },
  {
   "cell_type": "code",
   "execution_count": null,
   "metadata": {
    "scrolled": true
   },
   "outputs": [],
   "source": [
    "korelacijePoTipovima = dict()\n",
    "for tip in ([None] + vodniTipovi):\n",
    "    if tip is not None:\n",
    "        tmpFrame = frame.loc[frame.loc[:, \"Vodni tip\"] == tip]\n",
    "    else:\n",
    "        tmpFrame = frame\n",
    "        tip = \"Svi\"\n",
    "        \n",
    "    fig, ax = plt.subplots(figsize = (15, 8))\n",
    "    tmpCorr =  tmpFrame.corr().applymap(lambda x: \"{:.2f}\".format(x)).astype(float)\n",
    "    korelacijePoTipovima[tip] = tmpCorr.copy()\n",
    "    sns.heatmap(tmpCorr, cmap = \"inferno\", ax = ax, annot = True)\n",
    "    ax.set_title(\"Vodni tip: {}\".format(tip))\n",
    "    fig.savefig(\"../pics/corr/corrPlot_{}.pdf\".format(tip))\n",
    "    plt.show(fig)"
   ]
  },
  {
   "cell_type": "markdown",
   "metadata": {
    "scrolled": true
   },
   "source": [
    "keys = list(korelacijePoTipovima.keys())\n",
    "for i in range(len(keys)):\n",
    "    for j in range(i + 1, len(keys)):\n",
    "        fig, ax = plt.subplots(figsize = (15, 8))\n",
    "        key1, key2 = keys[i], keys[j]\n",
    "        df1, df2 = korelacijePoTipovima[key1], korelacijePoTipovima[key2]\n",
    "        diffFrame = (df2 - df1).abs()\n",
    "        sns.heatmap(diffFrame, cmap = \"inferno\", ax = ax, annot = True)\n",
    "        ax.set_title(\"corr |{} - {}|\".format(key1, key2))\n",
    "        fig.savefig(\"../pics/corrDiff/corrPlotDiff_{}_{}.pdf\".format(key1, key2))\n",
    "        plt.show(fig)"
   ]
  },
  {
   "cell_type": "markdown",
   "metadata": {},
   "source": [
    "Radimo permutacijski test kako bi odredili značajnost korelacija"
   ]
  },
  {
   "cell_type": "code",
   "execution_count": null,
   "metadata": {},
   "outputs": [],
   "source": [
    "def singlePerm(twoValFrame, nPerm):\n",
    "    permArray = np.zeros(nPerm)\n",
    "    for i in range(nPerm):\n",
    "        col1 = list(twoValFrame.columns)[1]\n",
    "        twoValFrame.loc[:, col1] = np.random.permutation(twoValFrame.loc[:, col1].values)\n",
    "        permArray[i] = twoValFrame.corr().values[0, 1]\n",
    "    return permArray.copy()\n",
    "    \n",
    "\n",
    "def corrPerm(dFrame, nPerm = 5_000):\n",
    "    corrFrame = pd.DataFrame()\n",
    "    cols = list(dFrame.columns)\n",
    "    for i in range(len(cols)):\n",
    "        for j in range(i + 1, len(cols)):\n",
    "            corrFrame.loc[:, \"corr({} ,{})\".format(cols[i], cols[j])] = singlePerm(\n",
    "                dFrame.loc[:, [cols[i], cols[j]]], nPerm)\n",
    "    return corrFrame"
   ]
  },
  {
   "cell_type": "code",
   "execution_count": null,
   "metadata": {},
   "outputs": [],
   "source": [
    "alpha = 0.05\n",
    "for tip in tqdm([None] + vodniTipovi):\n",
    "    if tip is not None:\n",
    "        tmpFrame = frame.loc[frame.loc[:, \"Vodni tip\"] == tip].drop([\"Vodni tip\"], axis = 1)\n",
    "    else:\n",
    "        tmpFrame = frame.drop([\"Vodni tip\"], axis = 1)\n",
    "        tip = \"Svi\"\n",
    "        \n",
    "    fig, axes = plt.subplots(2, 1, figsize = (15, 16))\n",
    "    fig2, axes2 = plt.subplots(2, 1, figsize = (15, 16))\n",
    "    fig3, ax3 = plt.subplots(figsize = (15, 8))\n",
    "    dropFig, dropAx = plt.subplots(figsize = (15, 8))\n",
    "    \n",
    "    tmpCorr =  tmpFrame.corr().applymap(lambda x: \"{:.2f}\".format(x)).astype(float)\n",
    "    pVals = tmpCorr.copy()\n",
    "    signif = tmpCorr.copy()\n",
    "    features = list(tmpCorr.columns)\n",
    "    for i in tqdm(range(len(features)), leave = False):\n",
    "        for j in tqdm(range(i + 1, len(features)), leave = False):\n",
    "            corrVal = tmpCorr.loc[features[i], features[j]]\n",
    "            permSamples = corrPerm(tmpFrame.loc[:, [features[i], features[j]]])\n",
    "            if np.isnan(corrVal):\n",
    "                pVal = 1.0\n",
    "            elif corrVal >= 0:\n",
    "                pVal = (permSamples > corrVal).mean()[0]\n",
    "            else:\n",
    "                pVal = (permSamples < corrVal).mean()[0]\n",
    "            pVals.loc[features[i], features[j]] = pVal\n",
    "            pVals.loc[features[j], features[i]] = pVal\n",
    "            signif.loc[features[i], features[j]] = float(pVal < alpha)\n",
    "            signif.loc[features[j], features[i]] = float(pVal < alpha)\n",
    "            \n",
    "    sns.heatmap(tmpCorr, cmap = \"inferno\", ax = axes[0], annot = True)\n",
    "    sns.heatmap(pVals, cmap = \"inferno\", ax = axes[1], annot = True)\n",
    "    \n",
    "    sns.heatmap(tmpCorr, cmap = \"inferno\", ax = axes2[0], annot = True)\n",
    "    sns.heatmap(signif, cmap = \"inferno\", ax = axes2[1], annot = True)\n",
    "    \n",
    "    tmpCorr.fillna(0, inplace = True)\n",
    "    signif.fillna(0, inplace = True)\n",
    "    \n",
    "    sns.heatmap(tmpCorr, cmap = \"inferno\", ax = dropAx, annot = True)\n",
    "    sns.heatmap(signif, cmap = \"inferno\", ax = ax3, annot = True)\n",
    "    \n",
    "    \n",
    "    \n",
    "    \n",
    "    def corrTrans(value):\n",
    "        if value == \"250.0\":\n",
    "            return \" \"\n",
    "        else:\n",
    "            return value\n",
    "    \n",
    "    for t1, t2 in zip(ax3.texts, dropAx.texts):\n",
    "        t1.set_text(corrTrans(t2.get_text()))\n",
    "    \n",
    "    axes[0].set_title(\"Vodni tip: {}\".format(tip))\n",
    "    axes[1].set_title(\"p-vrijednost\")\n",
    "    fig.savefig(\"../pics/corrPermTest/corrPlot_{}.pdf\".format(tip))\n",
    "    plt.show(fig)\n",
    "    \n",
    "    axes2[0].set_title(\"Vodni tip: {}\".format(tip))\n",
    "    axes2[1].set_title(\"značajnost\")\n",
    "    fig2.savefig(\"../pics/corrPermTest/corrPlotsignif_{}.pdf\".format(tip))\n",
    "    plt.show(fig2)\n",
    "    \n",
    "    ax3.set_title(\"Vodni tip: {}\".format(tip))\n",
    "    fig3.savefig(\"../pics/corrMerge/corrPlot_{}.pdf\".format(tip))\n",
    "    plt.show(fig3)\n",
    "    plt.show(dropFig)"
   ]
  },
  {
   "cell_type": "code",
   "execution_count": null,
   "metadata": {},
   "outputs": [],
   "source": []
  }
 ],
 "metadata": {
  "kernelspec": {
   "display_name": "Python 3",
   "language": "python",
   "name": "python3"
  },
  "language_info": {
   "codemirror_mode": {
    "name": "ipython",
    "version": 3
   },
   "file_extension": ".py",
   "mimetype": "text/x-python",
   "name": "python",
   "nbconvert_exporter": "python",
   "pygments_lexer": "ipython3",
   "version": "3.6.4"
  }
 },
 "nbformat": 4,
 "nbformat_minor": 2
}
